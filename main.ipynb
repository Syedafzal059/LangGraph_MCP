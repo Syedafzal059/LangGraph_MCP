{
 "cells": [
  {
   "cell_type": "code",
   "execution_count": 3,
   "id": "e57799b7",
   "metadata": {},
   "outputs": [
    {
     "data": {
      "text/plain": [
       "True"
      ]
     },
     "execution_count": 3,
     "metadata": {},
     "output_type": "execute_result"
    }
   ],
   "source": [
    "from dotenv import load_dotenv\n",
    "load_dotenv()\n"
   ]
  },
  {
   "cell_type": "code",
   "execution_count": null,
   "id": "61153f56",
   "metadata": {},
   "outputs": [
    {
     "ename": "NotImplementedError",
     "evalue": "",
     "output_type": "error",
     "traceback": [
      "\u001b[1;31m---------------------------------------------------------------------------\u001b[0m",
      "\u001b[1;31mNotImplementedError\u001b[0m                       Traceback (most recent call last)",
      "File \u001b[1;32mc:\\Users\\U1179766\\OneDrive - IQVIA\\Desktop\\lang_graph\\lang_graph01\\venv\\lib\\site-packages\\mcp\\client\\stdio\\win32.py:72\u001b[0m, in \u001b[0;36mcreate_windows_process\u001b[1;34m(command, args, env, errlog, cwd)\u001b[0m\n\u001b[0;32m     70\u001b[0m \u001b[38;5;28;01mtry\u001b[39;00m:\n\u001b[0;32m     71\u001b[0m     \u001b[38;5;66;03m# Try with Windows-specific flags to hide console window\u001b[39;00m\n\u001b[1;32m---> 72\u001b[0m     process \u001b[38;5;241m=\u001b[39m \u001b[38;5;28;01mawait\u001b[39;00m anyio\u001b[38;5;241m.\u001b[39mopen_process(\n\u001b[0;32m     73\u001b[0m         [command, \u001b[38;5;241m*\u001b[39margs],\n\u001b[0;32m     74\u001b[0m         env\u001b[38;5;241m=\u001b[39menv,\n\u001b[0;32m     75\u001b[0m         \u001b[38;5;66;03m# Ensure we don't create console windows for each process\u001b[39;00m\n\u001b[0;32m     76\u001b[0m         creationflags\u001b[38;5;241m=\u001b[39msubprocess\u001b[38;5;241m.\u001b[39mCREATE_NO_WINDOW  \u001b[38;5;66;03m# type: ignore\u001b[39;00m\n\u001b[0;32m     77\u001b[0m         \u001b[38;5;28;01mif\u001b[39;00m \u001b[38;5;28mhasattr\u001b[39m(subprocess, \u001b[38;5;124m\"\u001b[39m\u001b[38;5;124mCREATE_NO_WINDOW\u001b[39m\u001b[38;5;124m\"\u001b[39m)\n\u001b[0;32m     78\u001b[0m         \u001b[38;5;28;01melse\u001b[39;00m \u001b[38;5;241m0\u001b[39m,\n\u001b[0;32m     79\u001b[0m         stderr\u001b[38;5;241m=\u001b[39merrlog,\n\u001b[0;32m     80\u001b[0m         cwd\u001b[38;5;241m=\u001b[39mcwd,\n\u001b[0;32m     81\u001b[0m     )\n\u001b[0;32m     82\u001b[0m     \u001b[38;5;28;01mreturn\u001b[39;00m process\n",
      "File \u001b[1;32mc:\\Users\\U1179766\\OneDrive - IQVIA\\Desktop\\lang_graph\\lang_graph01\\venv\\lib\\site-packages\\anyio\\_core\\_subprocesses.py:190\u001b[0m, in \u001b[0;36mopen_process\u001b[1;34m(command, stdin, stdout, stderr, cwd, env, startupinfo, creationflags, start_new_session, pass_fds, user, group, extra_groups, umask)\u001b[0m\n\u001b[0;32m    188\u001b[0m     kwargs[\u001b[38;5;124m\"\u001b[39m\u001b[38;5;124mumask\u001b[39m\u001b[38;5;124m\"\u001b[39m] \u001b[38;5;241m=\u001b[39m umask\n\u001b[1;32m--> 190\u001b[0m \u001b[38;5;28;01mreturn\u001b[39;00m \u001b[38;5;28;01mawait\u001b[39;00m get_async_backend()\u001b[38;5;241m.\u001b[39mopen_process(\n\u001b[0;32m    191\u001b[0m     command,\n\u001b[0;32m    192\u001b[0m     stdin\u001b[38;5;241m=\u001b[39mstdin,\n\u001b[0;32m    193\u001b[0m     stdout\u001b[38;5;241m=\u001b[39mstdout,\n\u001b[0;32m    194\u001b[0m     stderr\u001b[38;5;241m=\u001b[39mstderr,\n\u001b[0;32m    195\u001b[0m     cwd\u001b[38;5;241m=\u001b[39mcwd,\n\u001b[0;32m    196\u001b[0m     env\u001b[38;5;241m=\u001b[39menv,\n\u001b[0;32m    197\u001b[0m     startupinfo\u001b[38;5;241m=\u001b[39mstartupinfo,\n\u001b[0;32m    198\u001b[0m     creationflags\u001b[38;5;241m=\u001b[39mcreationflags,\n\u001b[0;32m    199\u001b[0m     start_new_session\u001b[38;5;241m=\u001b[39mstart_new_session,\n\u001b[0;32m    200\u001b[0m     pass_fds\u001b[38;5;241m=\u001b[39mpass_fds,\n\u001b[0;32m    201\u001b[0m     \u001b[38;5;241m*\u001b[39m\u001b[38;5;241m*\u001b[39mkwargs,\n\u001b[0;32m    202\u001b[0m )\n",
      "File \u001b[1;32mc:\\Users\\U1179766\\OneDrive - IQVIA\\Desktop\\lang_graph\\lang_graph01\\venv\\lib\\site-packages\\anyio\\_backends\\_asyncio.py:2561\u001b[0m, in \u001b[0;36mAsyncIOBackend.open_process\u001b[1;34m(cls, command, stdin, stdout, stderr, **kwargs)\u001b[0m\n\u001b[0;32m   2560\u001b[0m \u001b[38;5;28;01melse\u001b[39;00m:\n\u001b[1;32m-> 2561\u001b[0m     process \u001b[38;5;241m=\u001b[39m \u001b[38;5;28;01mawait\u001b[39;00m asyncio\u001b[38;5;241m.\u001b[39mcreate_subprocess_exec(\n\u001b[0;32m   2562\u001b[0m         \u001b[38;5;241m*\u001b[39mcommand,\n\u001b[0;32m   2563\u001b[0m         stdin\u001b[38;5;241m=\u001b[39mstdin,\n\u001b[0;32m   2564\u001b[0m         stdout\u001b[38;5;241m=\u001b[39mstdout,\n\u001b[0;32m   2565\u001b[0m         stderr\u001b[38;5;241m=\u001b[39mstderr,\n\u001b[0;32m   2566\u001b[0m         \u001b[38;5;241m*\u001b[39m\u001b[38;5;241m*\u001b[39mkwargs,\n\u001b[0;32m   2567\u001b[0m     )\n\u001b[0;32m   2569\u001b[0m stdin_stream \u001b[38;5;241m=\u001b[39m StreamWriterWrapper(process\u001b[38;5;241m.\u001b[39mstdin) \u001b[38;5;28;01mif\u001b[39;00m process\u001b[38;5;241m.\u001b[39mstdin \u001b[38;5;28;01melse\u001b[39;00m \u001b[38;5;28;01mNone\u001b[39;00m\n",
      "File \u001b[1;32mC:\\Program Files\\Python310\\lib\\asyncio\\subprocess.py:218\u001b[0m, in \u001b[0;36mcreate_subprocess_exec\u001b[1;34m(program, stdin, stdout, stderr, limit, *args, **kwds)\u001b[0m\n\u001b[0;32m    216\u001b[0m protocol_factory \u001b[38;5;241m=\u001b[39m \u001b[38;5;28;01mlambda\u001b[39;00m: SubprocessStreamProtocol(limit\u001b[38;5;241m=\u001b[39mlimit,\n\u001b[0;32m    217\u001b[0m                                                     loop\u001b[38;5;241m=\u001b[39mloop)\n\u001b[1;32m--> 218\u001b[0m transport, protocol \u001b[38;5;241m=\u001b[39m \u001b[38;5;28;01mawait\u001b[39;00m loop\u001b[38;5;241m.\u001b[39msubprocess_exec(\n\u001b[0;32m    219\u001b[0m     protocol_factory,\n\u001b[0;32m    220\u001b[0m     program, \u001b[38;5;241m*\u001b[39margs,\n\u001b[0;32m    221\u001b[0m     stdin\u001b[38;5;241m=\u001b[39mstdin, stdout\u001b[38;5;241m=\u001b[39mstdout,\n\u001b[0;32m    222\u001b[0m     stderr\u001b[38;5;241m=\u001b[39mstderr, \u001b[38;5;241m*\u001b[39m\u001b[38;5;241m*\u001b[39mkwds)\n\u001b[0;32m    223\u001b[0m \u001b[38;5;28;01mreturn\u001b[39;00m Process(transport, protocol, loop)\n",
      "File \u001b[1;32mC:\\Program Files\\Python310\\lib\\asyncio\\base_events.py:1667\u001b[0m, in \u001b[0;36mBaseEventLoop.subprocess_exec\u001b[1;34m(self, protocol_factory, program, stdin, stdout, stderr, universal_newlines, shell, bufsize, encoding, errors, text, *args, **kwargs)\u001b[0m\n\u001b[0;32m   1666\u001b[0m     \u001b[38;5;28mself\u001b[39m\u001b[38;5;241m.\u001b[39m_log_subprocess(debug_log, stdin, stdout, stderr)\n\u001b[1;32m-> 1667\u001b[0m transport \u001b[38;5;241m=\u001b[39m \u001b[38;5;28;01mawait\u001b[39;00m \u001b[38;5;28mself\u001b[39m\u001b[38;5;241m.\u001b[39m_make_subprocess_transport(\n\u001b[0;32m   1668\u001b[0m     protocol, popen_args, \u001b[38;5;28;01mFalse\u001b[39;00m, stdin, stdout, stderr,\n\u001b[0;32m   1669\u001b[0m     bufsize, \u001b[38;5;241m*\u001b[39m\u001b[38;5;241m*\u001b[39mkwargs)\n\u001b[0;32m   1670\u001b[0m \u001b[38;5;28;01mif\u001b[39;00m \u001b[38;5;28mself\u001b[39m\u001b[38;5;241m.\u001b[39m_debug \u001b[38;5;129;01mand\u001b[39;00m debug_log \u001b[38;5;129;01mis\u001b[39;00m \u001b[38;5;129;01mnot\u001b[39;00m \u001b[38;5;28;01mNone\u001b[39;00m:\n",
      "File \u001b[1;32mC:\\Program Files\\Python310\\lib\\asyncio\\base_events.py:498\u001b[0m, in \u001b[0;36mBaseEventLoop._make_subprocess_transport\u001b[1;34m(self, protocol, args, shell, stdin, stdout, stderr, bufsize, extra, **kwargs)\u001b[0m\n\u001b[0;32m    497\u001b[0m \u001b[38;5;250m\u001b[39m\u001b[38;5;124;03m\"\"\"Create subprocess transport.\"\"\"\u001b[39;00m\n\u001b[1;32m--> 498\u001b[0m \u001b[38;5;28;01mraise\u001b[39;00m \u001b[38;5;167;01mNotImplementedError\u001b[39;00m\n",
      "\u001b[1;31mNotImplementedError\u001b[0m: ",
      "\nDuring handling of the above exception, another exception occurred:\n",
      "\u001b[1;31mNotImplementedError\u001b[0m                       Traceback (most recent call last)",
      "Cell \u001b[1;32mIn[4], line 17\u001b[0m\n\u001b[0;32m      9\u001b[0m model \u001b[38;5;241m=\u001b[39m ChatOpenAI(model\u001b[38;5;241m=\u001b[39m\u001b[38;5;124m\"\u001b[39m\u001b[38;5;124mgpt-4o\u001b[39m\u001b[38;5;124m\"\u001b[39m)\n\u001b[0;32m     11\u001b[0m server_params \u001b[38;5;241m=\u001b[39m StdioServerParameters(\n\u001b[0;32m     12\u001b[0m     command\u001b[38;5;241m=\u001b[39m\u001b[38;5;124m\"\u001b[39m\u001b[38;5;124mpython\u001b[39m\u001b[38;5;124m\"\u001b[39m,\n\u001b[0;32m     13\u001b[0m     \u001b[38;5;66;03m# Make sure to update to the full absolute path to your math_server.py file\u001b[39;00m\n\u001b[0;32m     14\u001b[0m     args\u001b[38;5;241m=\u001b[39m[\u001b[38;5;124m\"\u001b[39m\u001b[38;5;124m/path/to/math_server.py\u001b[39m\u001b[38;5;124m\"\u001b[39m],\n\u001b[0;32m     15\u001b[0m )\n\u001b[1;32m---> 17\u001b[0m \u001b[38;5;28;01masync\u001b[39;00m \u001b[38;5;28;01mwith\u001b[39;00m stdio_client(server_params) \u001b[38;5;28;01mas\u001b[39;00m (read, write):\n\u001b[0;32m     18\u001b[0m     \u001b[38;5;28;01masync\u001b[39;00m \u001b[38;5;28;01mwith\u001b[39;00m ClientSession(read, write) \u001b[38;5;28;01mas\u001b[39;00m session:\n\u001b[0;32m     19\u001b[0m         \u001b[38;5;66;03m# Initialize the connection\u001b[39;00m\n\u001b[0;32m     20\u001b[0m         \u001b[38;5;28;01mawait\u001b[39;00m session\u001b[38;5;241m.\u001b[39minitialize()\n",
      "File \u001b[1;32mC:\\Program Files\\Python310\\lib\\contextlib.py:199\u001b[0m, in \u001b[0;36m_AsyncGeneratorContextManager.__aenter__\u001b[1;34m(self)\u001b[0m\n\u001b[0;32m    197\u001b[0m \u001b[38;5;28;01mdel\u001b[39;00m \u001b[38;5;28mself\u001b[39m\u001b[38;5;241m.\u001b[39margs, \u001b[38;5;28mself\u001b[39m\u001b[38;5;241m.\u001b[39mkwds, \u001b[38;5;28mself\u001b[39m\u001b[38;5;241m.\u001b[39mfunc\n\u001b[0;32m    198\u001b[0m \u001b[38;5;28;01mtry\u001b[39;00m:\n\u001b[1;32m--> 199\u001b[0m     \u001b[38;5;28;01mreturn\u001b[39;00m \u001b[38;5;28;01mawait\u001b[39;00m anext(\u001b[38;5;28mself\u001b[39m\u001b[38;5;241m.\u001b[39mgen)\n\u001b[0;32m    200\u001b[0m \u001b[38;5;28;01mexcept\u001b[39;00m \u001b[38;5;167;01mStopAsyncIteration\u001b[39;00m:\n\u001b[0;32m    201\u001b[0m     \u001b[38;5;28;01mraise\u001b[39;00m \u001b[38;5;167;01mRuntimeError\u001b[39;00m(\u001b[38;5;124m\"\u001b[39m\u001b[38;5;124mgenerator didn\u001b[39m\u001b[38;5;124m'\u001b[39m\u001b[38;5;124mt yield\u001b[39m\u001b[38;5;124m\"\u001b[39m) \u001b[38;5;28;01mfrom\u001b[39;00m\u001b[38;5;250m \u001b[39m\u001b[38;5;28;01mNone\u001b[39;00m\n",
      "File \u001b[1;32mc:\\Users\\U1179766\\OneDrive - IQVIA\\Desktop\\lang_graph\\lang_graph01\\venv\\lib\\site-packages\\mcp\\client\\stdio\\__init__.py:113\u001b[0m, in \u001b[0;36mstdio_client\u001b[1;34m(server, errlog)\u001b[0m\n\u001b[0;32m    110\u001b[0m command \u001b[38;5;241m=\u001b[39m _get_executable_command(server\u001b[38;5;241m.\u001b[39mcommand)\n\u001b[0;32m    112\u001b[0m \u001b[38;5;66;03m# Open process with stderr piped for capture\u001b[39;00m\n\u001b[1;32m--> 113\u001b[0m process \u001b[38;5;241m=\u001b[39m \u001b[38;5;28;01mawait\u001b[39;00m _create_platform_compatible_process(\n\u001b[0;32m    114\u001b[0m     command\u001b[38;5;241m=\u001b[39mcommand,\n\u001b[0;32m    115\u001b[0m     args\u001b[38;5;241m=\u001b[39mserver\u001b[38;5;241m.\u001b[39margs,\n\u001b[0;32m    116\u001b[0m     env\u001b[38;5;241m=\u001b[39m(\n\u001b[0;32m    117\u001b[0m         {\u001b[38;5;241m*\u001b[39m\u001b[38;5;241m*\u001b[39mget_default_environment(), \u001b[38;5;241m*\u001b[39m\u001b[38;5;241m*\u001b[39mserver\u001b[38;5;241m.\u001b[39menv}\n\u001b[0;32m    118\u001b[0m         \u001b[38;5;28;01mif\u001b[39;00m server\u001b[38;5;241m.\u001b[39menv \u001b[38;5;129;01mis\u001b[39;00m \u001b[38;5;129;01mnot\u001b[39;00m \u001b[38;5;28;01mNone\u001b[39;00m\n\u001b[0;32m    119\u001b[0m         \u001b[38;5;28;01melse\u001b[39;00m get_default_environment()\n\u001b[0;32m    120\u001b[0m     ),\n\u001b[0;32m    121\u001b[0m     errlog\u001b[38;5;241m=\u001b[39merrlog,\n\u001b[0;32m    122\u001b[0m     cwd\u001b[38;5;241m=\u001b[39mserver\u001b[38;5;241m.\u001b[39mcwd,\n\u001b[0;32m    123\u001b[0m )\n\u001b[0;32m    125\u001b[0m \u001b[38;5;28;01masync\u001b[39;00m \u001b[38;5;28;01mdef\u001b[39;00m\u001b[38;5;250m \u001b[39m\u001b[38;5;21mstdout_reader\u001b[39m():\n\u001b[0;32m    126\u001b[0m     \u001b[38;5;28;01massert\u001b[39;00m process\u001b[38;5;241m.\u001b[39mstdout, \u001b[38;5;124m\"\u001b[39m\u001b[38;5;124mOpened process is missing stdout\u001b[39m\u001b[38;5;124m\"\u001b[39m\n",
      "File \u001b[1;32mc:\\Users\\U1179766\\OneDrive - IQVIA\\Desktop\\lang_graph\\lang_graph01\\venv\\lib\\site-packages\\mcp\\client\\stdio\\__init__.py:210\u001b[0m, in \u001b[0;36m_create_platform_compatible_process\u001b[1;34m(command, args, env, errlog, cwd)\u001b[0m\n\u001b[0;32m    205\u001b[0m \u001b[38;5;250m\u001b[39m\u001b[38;5;124;03m\"\"\"\u001b[39;00m\n\u001b[0;32m    206\u001b[0m \u001b[38;5;124;03mCreates a subprocess in a platform-compatible way.\u001b[39;00m\n\u001b[0;32m    207\u001b[0m \u001b[38;5;124;03mReturns a process handle.\u001b[39;00m\n\u001b[0;32m    208\u001b[0m \u001b[38;5;124;03m\"\"\"\u001b[39;00m\n\u001b[0;32m    209\u001b[0m \u001b[38;5;28;01mif\u001b[39;00m sys\u001b[38;5;241m.\u001b[39mplatform \u001b[38;5;241m==\u001b[39m \u001b[38;5;124m\"\u001b[39m\u001b[38;5;124mwin32\u001b[39m\u001b[38;5;124m\"\u001b[39m:\n\u001b[1;32m--> 210\u001b[0m     process \u001b[38;5;241m=\u001b[39m \u001b[38;5;28;01mawait\u001b[39;00m create_windows_process(command, args, env, errlog, cwd)\n\u001b[0;32m    211\u001b[0m \u001b[38;5;28;01melse\u001b[39;00m:\n\u001b[0;32m    212\u001b[0m     process \u001b[38;5;241m=\u001b[39m \u001b[38;5;28;01mawait\u001b[39;00m anyio\u001b[38;5;241m.\u001b[39mopen_process(\n\u001b[0;32m    213\u001b[0m         [command, \u001b[38;5;241m*\u001b[39margs], env\u001b[38;5;241m=\u001b[39menv, stderr\u001b[38;5;241m=\u001b[39merrlog, cwd\u001b[38;5;241m=\u001b[39mcwd\n\u001b[0;32m    214\u001b[0m     )\n",
      "File \u001b[1;32mc:\\Users\\U1179766\\OneDrive - IQVIA\\Desktop\\lang_graph\\lang_graph01\\venv\\lib\\site-packages\\mcp\\client\\stdio\\win32.py:85\u001b[0m, in \u001b[0;36mcreate_windows_process\u001b[1;34m(command, args, env, errlog, cwd)\u001b[0m\n\u001b[0;32m     82\u001b[0m     \u001b[38;5;28;01mreturn\u001b[39;00m process\n\u001b[0;32m     83\u001b[0m \u001b[38;5;28;01mexcept\u001b[39;00m \u001b[38;5;167;01mException\u001b[39;00m:\n\u001b[0;32m     84\u001b[0m     \u001b[38;5;66;03m# Don't raise, let's try to create the process without creation flags\u001b[39;00m\n\u001b[1;32m---> 85\u001b[0m     process \u001b[38;5;241m=\u001b[39m \u001b[38;5;28;01mawait\u001b[39;00m anyio\u001b[38;5;241m.\u001b[39mopen_process(\n\u001b[0;32m     86\u001b[0m         [command, \u001b[38;5;241m*\u001b[39margs], env\u001b[38;5;241m=\u001b[39menv, stderr\u001b[38;5;241m=\u001b[39merrlog, cwd\u001b[38;5;241m=\u001b[39mcwd\n\u001b[0;32m     87\u001b[0m     )\n\u001b[0;32m     88\u001b[0m     \u001b[38;5;28;01mreturn\u001b[39;00m process\n",
      "File \u001b[1;32mc:\\Users\\U1179766\\OneDrive - IQVIA\\Desktop\\lang_graph\\lang_graph01\\venv\\lib\\site-packages\\anyio\\_core\\_subprocesses.py:190\u001b[0m, in \u001b[0;36mopen_process\u001b[1;34m(command, stdin, stdout, stderr, cwd, env, startupinfo, creationflags, start_new_session, pass_fds, user, group, extra_groups, umask)\u001b[0m\n\u001b[0;32m    187\u001b[0m \u001b[38;5;28;01mif\u001b[39;00m umask \u001b[38;5;241m>\u001b[39m\u001b[38;5;241m=\u001b[39m \u001b[38;5;241m0\u001b[39m:\n\u001b[0;32m    188\u001b[0m     kwargs[\u001b[38;5;124m\"\u001b[39m\u001b[38;5;124mumask\u001b[39m\u001b[38;5;124m\"\u001b[39m] \u001b[38;5;241m=\u001b[39m umask\n\u001b[1;32m--> 190\u001b[0m \u001b[38;5;28;01mreturn\u001b[39;00m \u001b[38;5;28;01mawait\u001b[39;00m get_async_backend()\u001b[38;5;241m.\u001b[39mopen_process(\n\u001b[0;32m    191\u001b[0m     command,\n\u001b[0;32m    192\u001b[0m     stdin\u001b[38;5;241m=\u001b[39mstdin,\n\u001b[0;32m    193\u001b[0m     stdout\u001b[38;5;241m=\u001b[39mstdout,\n\u001b[0;32m    194\u001b[0m     stderr\u001b[38;5;241m=\u001b[39mstderr,\n\u001b[0;32m    195\u001b[0m     cwd\u001b[38;5;241m=\u001b[39mcwd,\n\u001b[0;32m    196\u001b[0m     env\u001b[38;5;241m=\u001b[39menv,\n\u001b[0;32m    197\u001b[0m     startupinfo\u001b[38;5;241m=\u001b[39mstartupinfo,\n\u001b[0;32m    198\u001b[0m     creationflags\u001b[38;5;241m=\u001b[39mcreationflags,\n\u001b[0;32m    199\u001b[0m     start_new_session\u001b[38;5;241m=\u001b[39mstart_new_session,\n\u001b[0;32m    200\u001b[0m     pass_fds\u001b[38;5;241m=\u001b[39mpass_fds,\n\u001b[0;32m    201\u001b[0m     \u001b[38;5;241m*\u001b[39m\u001b[38;5;241m*\u001b[39mkwargs,\n\u001b[0;32m    202\u001b[0m )\n",
      "File \u001b[1;32mc:\\Users\\U1179766\\OneDrive - IQVIA\\Desktop\\lang_graph\\lang_graph01\\venv\\lib\\site-packages\\anyio\\_backends\\_asyncio.py:2561\u001b[0m, in \u001b[0;36mAsyncIOBackend.open_process\u001b[1;34m(cls, command, stdin, stdout, stderr, **kwargs)\u001b[0m\n\u001b[0;32m   2553\u001b[0m     process \u001b[38;5;241m=\u001b[39m \u001b[38;5;28;01mawait\u001b[39;00m asyncio\u001b[38;5;241m.\u001b[39mcreate_subprocess_shell(\n\u001b[0;32m   2554\u001b[0m         command,\n\u001b[0;32m   2555\u001b[0m         stdin\u001b[38;5;241m=\u001b[39mstdin,\n\u001b[1;32m   (...)\u001b[0m\n\u001b[0;32m   2558\u001b[0m         \u001b[38;5;241m*\u001b[39m\u001b[38;5;241m*\u001b[39mkwargs,\n\u001b[0;32m   2559\u001b[0m     )\n\u001b[0;32m   2560\u001b[0m \u001b[38;5;28;01melse\u001b[39;00m:\n\u001b[1;32m-> 2561\u001b[0m     process \u001b[38;5;241m=\u001b[39m \u001b[38;5;28;01mawait\u001b[39;00m asyncio\u001b[38;5;241m.\u001b[39mcreate_subprocess_exec(\n\u001b[0;32m   2562\u001b[0m         \u001b[38;5;241m*\u001b[39mcommand,\n\u001b[0;32m   2563\u001b[0m         stdin\u001b[38;5;241m=\u001b[39mstdin,\n\u001b[0;32m   2564\u001b[0m         stdout\u001b[38;5;241m=\u001b[39mstdout,\n\u001b[0;32m   2565\u001b[0m         stderr\u001b[38;5;241m=\u001b[39mstderr,\n\u001b[0;32m   2566\u001b[0m         \u001b[38;5;241m*\u001b[39m\u001b[38;5;241m*\u001b[39mkwargs,\n\u001b[0;32m   2567\u001b[0m     )\n\u001b[0;32m   2569\u001b[0m stdin_stream \u001b[38;5;241m=\u001b[39m StreamWriterWrapper(process\u001b[38;5;241m.\u001b[39mstdin) \u001b[38;5;28;01mif\u001b[39;00m process\u001b[38;5;241m.\u001b[39mstdin \u001b[38;5;28;01melse\u001b[39;00m \u001b[38;5;28;01mNone\u001b[39;00m\n\u001b[0;32m   2570\u001b[0m stdout_stream \u001b[38;5;241m=\u001b[39m StreamReaderWrapper(process\u001b[38;5;241m.\u001b[39mstdout) \u001b[38;5;28;01mif\u001b[39;00m process\u001b[38;5;241m.\u001b[39mstdout \u001b[38;5;28;01melse\u001b[39;00m \u001b[38;5;28;01mNone\u001b[39;00m\n",
      "File \u001b[1;32mC:\\Program Files\\Python310\\lib\\asyncio\\subprocess.py:218\u001b[0m, in \u001b[0;36mcreate_subprocess_exec\u001b[1;34m(program, stdin, stdout, stderr, limit, *args, **kwds)\u001b[0m\n\u001b[0;32m    215\u001b[0m loop \u001b[38;5;241m=\u001b[39m events\u001b[38;5;241m.\u001b[39mget_running_loop()\n\u001b[0;32m    216\u001b[0m protocol_factory \u001b[38;5;241m=\u001b[39m \u001b[38;5;28;01mlambda\u001b[39;00m: SubprocessStreamProtocol(limit\u001b[38;5;241m=\u001b[39mlimit,\n\u001b[0;32m    217\u001b[0m                                                     loop\u001b[38;5;241m=\u001b[39mloop)\n\u001b[1;32m--> 218\u001b[0m transport, protocol \u001b[38;5;241m=\u001b[39m \u001b[38;5;28;01mawait\u001b[39;00m loop\u001b[38;5;241m.\u001b[39msubprocess_exec(\n\u001b[0;32m    219\u001b[0m     protocol_factory,\n\u001b[0;32m    220\u001b[0m     program, \u001b[38;5;241m*\u001b[39margs,\n\u001b[0;32m    221\u001b[0m     stdin\u001b[38;5;241m=\u001b[39mstdin, stdout\u001b[38;5;241m=\u001b[39mstdout,\n\u001b[0;32m    222\u001b[0m     stderr\u001b[38;5;241m=\u001b[39mstderr, \u001b[38;5;241m*\u001b[39m\u001b[38;5;241m*\u001b[39mkwds)\n\u001b[0;32m    223\u001b[0m \u001b[38;5;28;01mreturn\u001b[39;00m Process(transport, protocol, loop)\n",
      "File \u001b[1;32mC:\\Program Files\\Python310\\lib\\asyncio\\base_events.py:1667\u001b[0m, in \u001b[0;36mBaseEventLoop.subprocess_exec\u001b[1;34m(self, protocol_factory, program, stdin, stdout, stderr, universal_newlines, shell, bufsize, encoding, errors, text, *args, **kwargs)\u001b[0m\n\u001b[0;32m   1665\u001b[0m     debug_log \u001b[38;5;241m=\u001b[39m \u001b[38;5;124mf\u001b[39m\u001b[38;5;124m'\u001b[39m\u001b[38;5;124mexecute program \u001b[39m\u001b[38;5;132;01m{\u001b[39;00mprogram\u001b[38;5;132;01m!r}\u001b[39;00m\u001b[38;5;124m'\u001b[39m\n\u001b[0;32m   1666\u001b[0m     \u001b[38;5;28mself\u001b[39m\u001b[38;5;241m.\u001b[39m_log_subprocess(debug_log, stdin, stdout, stderr)\n\u001b[1;32m-> 1667\u001b[0m transport \u001b[38;5;241m=\u001b[39m \u001b[38;5;28;01mawait\u001b[39;00m \u001b[38;5;28mself\u001b[39m\u001b[38;5;241m.\u001b[39m_make_subprocess_transport(\n\u001b[0;32m   1668\u001b[0m     protocol, popen_args, \u001b[38;5;28;01mFalse\u001b[39;00m, stdin, stdout, stderr,\n\u001b[0;32m   1669\u001b[0m     bufsize, \u001b[38;5;241m*\u001b[39m\u001b[38;5;241m*\u001b[39mkwargs)\n\u001b[0;32m   1670\u001b[0m \u001b[38;5;28;01mif\u001b[39;00m \u001b[38;5;28mself\u001b[39m\u001b[38;5;241m.\u001b[39m_debug \u001b[38;5;129;01mand\u001b[39;00m debug_log \u001b[38;5;129;01mis\u001b[39;00m \u001b[38;5;129;01mnot\u001b[39;00m \u001b[38;5;28;01mNone\u001b[39;00m:\n\u001b[0;32m   1671\u001b[0m     logger\u001b[38;5;241m.\u001b[39minfo(\u001b[38;5;124m'\u001b[39m\u001b[38;5;132;01m%s\u001b[39;00m\u001b[38;5;124m: \u001b[39m\u001b[38;5;132;01m%r\u001b[39;00m\u001b[38;5;124m'\u001b[39m, debug_log, transport)\n",
      "File \u001b[1;32mC:\\Program Files\\Python310\\lib\\asyncio\\base_events.py:498\u001b[0m, in \u001b[0;36mBaseEventLoop._make_subprocess_transport\u001b[1;34m(self, protocol, args, shell, stdin, stdout, stderr, bufsize, extra, **kwargs)\u001b[0m\n\u001b[0;32m    494\u001b[0m \u001b[38;5;28;01masync\u001b[39;00m \u001b[38;5;28;01mdef\u001b[39;00m\u001b[38;5;250m \u001b[39m\u001b[38;5;21m_make_subprocess_transport\u001b[39m(\u001b[38;5;28mself\u001b[39m, protocol, args, shell,\n\u001b[0;32m    495\u001b[0m                                      stdin, stdout, stderr, bufsize,\n\u001b[0;32m    496\u001b[0m                                      extra\u001b[38;5;241m=\u001b[39m\u001b[38;5;28;01mNone\u001b[39;00m, \u001b[38;5;241m*\u001b[39m\u001b[38;5;241m*\u001b[39mkwargs):\n\u001b[0;32m    497\u001b[0m \u001b[38;5;250m    \u001b[39m\u001b[38;5;124;03m\"\"\"Create subprocess transport.\"\"\"\u001b[39;00m\n\u001b[1;32m--> 498\u001b[0m     \u001b[38;5;28;01mraise\u001b[39;00m \u001b[38;5;167;01mNotImplementedError\u001b[39;00m\n",
      "\u001b[1;31mNotImplementedError\u001b[0m: "
     ]
    }
   ],
   "source": [
    "# Create server parameters for stdio connection\n",
    "from mcp import ClientSession, StdioServerParameters\n",
    "from mcp.client.stdio import stdio_client\n",
    "\n",
    "from langchain_mcp_adapters.tools import load_mcp_tools\n",
    "from langgraph.prebuilt import create_react_agent\n",
    "\n",
    "from langchain_openai import ChatOpenAI\n",
    "model = ChatOpenAI(model=\"gpt-4o\")\n",
    "\n",
    "server_params = StdioServerParameters(\n",
    "    command=\"python\",\n",
    "    # Make sure to update to the full absolute path to your math_server.py file\n",
    "    args=[\"/mcp_server.py\"],\n",
    ")\n",
    "\n",
    "async with stdio_client(server_params) as (read, write):\n",
    "    async with ClientSession(read, write) as session:\n",
    "        # Initialize the connection\n",
    "        await session.initialize()\n",
    "\n",
    "        # Get tools\n",
    "        tools = await load_mcp_tools(session)\n",
    "\n",
    "        # Create and run the agent\n",
    "        agent = create_react_agent(model, tools)\n",
    "        agent_response = await agent.ainvoke({\"messages\": \"what's (3 + 5) x 12?\"})"
   ]
  },
  {
   "cell_type": "code",
   "execution_count": 5,
   "id": "5bd2b6b5",
   "metadata": {},
   "outputs": [
    {
     "ename": "NameError",
     "evalue": "name 'agent_response' is not defined",
     "output_type": "error",
     "traceback": [
      "\u001b[1;31m---------------------------------------------------------------------------\u001b[0m",
      "\u001b[1;31mNameError\u001b[0m                                 Traceback (most recent call last)",
      "Cell \u001b[1;32mIn[5], line 1\u001b[0m\n\u001b[1;32m----> 1\u001b[0m \u001b[38;5;28;01mfor\u001b[39;00m m \u001b[38;5;129;01min\u001b[39;00m \u001b[43magent_response\u001b[49m[\u001b[38;5;124m\"\u001b[39m\u001b[38;5;124mmessages\u001b[39m\u001b[38;5;124m\"\u001b[39m]:\n\u001b[0;32m      2\u001b[0m     m\u001b[38;5;241m.\u001b[39mpretty_print()\n",
      "\u001b[1;31mNameError\u001b[0m: name 'agent_response' is not defined"
     ]
    }
   ],
   "source": [
    "for m in agent_response[\"messages\"]:\n",
    "    m.pretty_print()"
   ]
  },
  {
   "cell_type": "code",
   "execution_count": null,
   "id": "ff4780b0",
   "metadata": {},
   "outputs": [],
   "source": []
  }
 ],
 "metadata": {
  "kernelspec": {
   "display_name": "venv",
   "language": "python",
   "name": "python3"
  },
  "language_info": {
   "codemirror_mode": {
    "name": "ipython",
    "version": 3
   },
   "file_extension": ".py",
   "mimetype": "text/x-python",
   "name": "python",
   "nbconvert_exporter": "python",
   "pygments_lexer": "ipython3",
   "version": "3.10.7"
  }
 },
 "nbformat": 4,
 "nbformat_minor": 5
}
